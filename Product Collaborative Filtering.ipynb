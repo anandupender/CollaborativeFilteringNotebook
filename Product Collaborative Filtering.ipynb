{
 "cells": [
  {
   "cell_type": "markdown",
   "metadata": {},
   "source": [
    "# Collaborative Filtering - Headphone Dataset"
   ]
  },
  {
   "cell_type": "markdown",
   "metadata": {},
   "source": [
    "### Import Modules"
   ]
  },
  {
   "cell_type": "code",
   "execution_count": 2,
   "metadata": {
    "collapsed": true
   },
   "outputs": [],
   "source": [
    "#\n",
    "# Licensed to the Apache Software Foundation (ASF) under one or more\n",
    "# contributor license agreements.  See the NOTICE file distributed with\n",
    "# this work for additional information regarding copyright ownership.\n",
    "# The ASF licenses this file to You under the Apache License, Version 2.0\n",
    "# (the \"License\"); you may not use this file except in compliance with\n",
    "# the License.  You may obtain a copy of the License at\n",
    "#\n",
    "#    http://www.apache.org/licenses/LICENSE-2.0\n",
    "#\n",
    "# Unless required by applicable law or agreed to in writing, software\n",
    "# distributed under the License is distributed on an \"AS IS\" BASIS,\n",
    "# WITHOUT WARRANTIES OR CONDITIONS OF ANY KIND, either express or implied.\n",
    "# See the License for the specific language governing permissions and\n",
    "# limitations under the License.\n",
    "#\n",
    "\n",
    "\"\"\"\n",
    "Collaborative Filtering Classification Example.\n",
    "\"\"\"\n",
    "from __future__ import print_function\n",
    "\n",
    "from pyspark import SparkContext\n",
    "\n",
    "# $example on$\n",
    "from pyspark.mllib.recommendation import ALS, MatrixFactorizationModel, Rating\n",
    "# $example off$\n",
    "\n"
   ]
  },
  {
   "cell_type": "markdown",
   "metadata": {},
   "source": [
    "### Read and Parse Data from Marketplace A - save in new file"
   ]
  },
  {
   "cell_type": "code",
   "execution_count": 4,
   "metadata": {},
   "outputs": [],
   "source": [
    "import csv\n",
    "\n",
    "firstTime = True\n",
    "products = []\n",
    "     \n",
    "userCounter = 0\n",
    "\n",
    "# Data Format in CSV: columns[userNum, productNum(1-46), Hiking, Museums...]\n",
    "\n",
    "with open('ourData/marketplaceAFixMistake.csv', 'rb') as csvfile:\n",
    "    marketplaceA = csv.reader(csvfile, delimiter=',', quotechar='|')\n",
    "    for row in marketplaceA:\n",
    "        if(firstTime): # remove first row with titles and create key chart\n",
    "            for productNum in range (1,46):\n",
    "                products.append(row[productNum])\n",
    "            firstTime = False\n",
    "            # print(products)\n",
    "        else:\n",
    "            for product in range (1,46):\n",
    "                # print(row[product]) # all user products\n",
    "                tempRating = [row[0], products[product-1], row[product]] # [userNum, productNum, Rating]\n",
    "                with open(\"ourData/allDataFinal.csv\", \"a\") as fp:   #write to new csv\n",
    "                    wr = csv.writer(fp, dialect='excel')\n",
    "                    wr.writerow(tempRating)"
   ]
  },
  {
   "cell_type": "markdown",
   "metadata": {},
   "source": [
    "### Parse only certain people types! - filter by persona tags"
   ]
  },
  {
   "cell_type": "code",
   "execution_count": 5,
   "metadata": {
    "collapsed": true
   },
   "outputs": [],
   "source": [
    "import csv\n",
    "\n",
    "firstTime = True\n",
    "products = []\n",
    "     \n",
    "userCounter = 0\n",
    "# 54 - Finding deals/ couponing , 58 - Fashion blogs / OOTD\n",
    "# 53 - Coding, 56 - Foodie/ fine dining\n",
    "\n",
    "# Data Format in CSV: columns[userNum, productNum(1-46), Hiking, Museums...]\n",
    "testCounter = 0\n",
    "with open('ourData/marketplaceAFixMistake.csv', 'rb') as csvfile:\n",
    "    marketplaceA = csv.reader(csvfile, delimiter=',', quotechar='|')\n",
    "    for row in marketplaceA:\n",
    "        if(firstTime): # remove first row with titles and create key chart\n",
    "            for productNum in range (1,46):\n",
    "                products.append(row[productNum])\n",
    "            firstTime = False\n",
    "            # print(products)\n",
    "        else:\n",
    "            for product in range (1,46):\n",
    "                # print(row[product]) # all user products\n",
    "                if(row[53] == 'Coding' and row[56] == 'Foodie/ fine dining'):\n",
    "                    tempRating = [row[0], products[product-1], row[product]] # [userNum, productNum, Rating]\n",
    "                    # print(tempRating)\n",
    "                    with open(\"ourData/foodiesAndCoding.csv\", \"a\") as fp:   #write to new csv\n",
    "                        wr = csv.writer(fp, dialect='excel')\n",
    "                        wr.writerow(tempRating)"
   ]
  },
  {
   "cell_type": "markdown",
   "metadata": {},
   "source": [
    "### Train Model on Data Set"
   ]
  },
  {
   "cell_type": "code",
   "execution_count": 5,
   "metadata": {},
   "outputs": [
    {
     "name": "stdout",
     "output_type": "stream",
     "text": [
      "Mean Squared Error = 0.00075280203869\n"
     ]
    }
   ],
   "source": [
    "if __name__ == \"__main__\":\n",
    "    sc = SparkContext(appName=\"PythonCollaborativeFilteringExample\")\n",
    "    # $example on$\n",
    "    # Load and parse the data\n",
    "    data = sc.textFile(\"ourData/fashionAndDeals.csv\")\n",
    "    ratings = data.map(lambda l: l.split(','))\\\n",
    "        .map(lambda l: Rating(int(l[0]), int(l[1]), float(l[2])))\n",
    "\n",
    "    # Build the recommendation model using Alternating Least Squares\n",
    "    rank = 10\n",
    "    numIterations = 10\n",
    "    model = ALS.train(ratings, rank, numIterations)\n",
    "\n",
    "    # Evaluate the model on training data\n",
    "    testdata = ratings.map(lambda p: (p[0], p[1]))\n",
    "    predictions = model.predictAll(testdata).map(lambda r: ((r[0], r[1]), r[2]))\n",
    "    ratesAndPreds = ratings.map(lambda r: ((r[0], r[1]), r[2])).join(predictions)\n",
    "    MSE = ratesAndPreds.map(lambda r: (r[1][0] - r[1][1])**2).mean()\n",
    "    print(\"Mean Squared Error = \" + str(MSE))\n",
    "\n",
    "    # Save and load model\n",
    "#     model.save(sc, \"target/tmp/myCollaborativeFilter\")\n",
    "#     sameModel = MatrixFactorizationModel.load(sc, \"target/tmp/myCollaborativeFilter\")\n",
    "    # $example off$"
   ]
  },
  {
   "cell_type": "markdown",
   "metadata": {},
   "source": [
    "### Run Test Set and Calculate Predictions"
   ]
  },
  {
   "cell_type": "code",
   "execution_count": 6,
   "metadata": {
    "scrolled": false
   },
   "outputs": [
    {
     "name": "stdout",
     "output_type": "stream",
     "text": [
      "your prediction is:  0.236488258385  compared to the actual of:  0.0\n",
      "your prediction is:  0.372567283968  compared to the actual of:  1.0\n",
      "your prediction is:  0.250441821435  compared to the actual of:  1.0\n",
      "your prediction is:  0.174959825931  compared to the actual of:  0.0\n",
      "your prediction is:  0.195660687861  compared to the actual of:  1.0\n",
      "your prediction is:  0.233911381488  compared to the actual of:  0.0\n",
      "your prediction is:  0.217385394727  compared to the actual of:  1.0\n",
      "your prediction is:  0.388681641443  compared to the actual of:  1.0\n",
      "your prediction is:  0.370575649831  compared to the actual of:  1.0\n",
      "your prediction is:  0.339555905658  compared to the actual of:  1.0\n",
      "your prediction is:  0.272667262926  compared to the actual of:  1.0\n",
      "your prediction is:  0.0  compared to the actual of:  1.0\n",
      "your prediction is:  0.185987427103  compared to the actual of:  0.0\n",
      "your prediction is:  0.332815886396  compared to the actual of:  1.0\n",
      "your prediction is:  0.0151556863951  compared to the actual of:  0.0\n",
      "your prediction is:  0.410623925928  compared to the actual of:  1.0\n",
      "your prediction is:  0.0917743442488  compared to the actual of:  0.0\n",
      "your prediction is:  0.152633124858  compared to the actual of:  1.0\n",
      "your prediction is:  0.014880353451  compared to the actual of:  0.0\n",
      "your prediction is:  0.205458836152  compared to the actual of:  0.0\n",
      "your prediction is:  0.0835310668627  compared to the actual of:  0.0\n",
      "your prediction is:  0.405385175245  compared to the actual of:  1.0\n",
      "your prediction is:  0.493272788896  compared to the actual of:  0.0\n",
      "your prediction is:  0.354337633005  compared to the actual of:  1.0\n",
      "your prediction is:  0.504098696125  compared to the actual of:  0.0\n"
     ]
    }
   ],
   "source": [
    "    import numpy\n",
    "    numpy.random.seed(7)\n",
    "\n",
    "    # load test dataset\n",
    "    dataset = numpy.loadtxt(\"ourData/fashionAndDealsTest.csv\", delimiter=\",\")\n",
    "    data = dataset[:,0:3]\n",
    "    for x in range(0, len(data)):\n",
    "        prediction = model.predict(data[x][0], data[x][1])\n",
    "        print(\"your prediction is: \", prediction, \" compared to the actual of: \", data[x][2])\n",
    "\n"
   ]
  },
  {
   "cell_type": "markdown",
   "metadata": {},
   "source": [
    "### Test Product Owner Categories "
   ]
  },
  {
   "cell_type": "code",
   "execution_count": 43,
   "metadata": {
    "collapsed": true
   },
   "outputs": [],
   "source": [
    "import csv\n",
    "\n",
    "firstTime = True\n",
    "allProducts = []\n",
    "     \n",
    "# Data Format in CSV: columns[userNum, productNum(1-46), Hiking, Museums...]\n",
    "testCounter = 0\n",
    "with open('ourData/marketplaceAFixMistake.csv', 'rb') as csvfile:\n",
    "    marketplaceA = csv.reader(csvfile, delimiter=',', quotechar='|')\n",
    "    for productNum in range (1,46): # start empty array\n",
    "        allProducts.append([productNum,0,0,0,0,0,0,0,0,0,0,0,0,0,0,0])        \n",
    "    for user in marketplaceA:\n",
    "        for product in range (1,46):\n",
    "            if(user[product] == '1'): # has product\n",
    "                for tag in range(46,61):\n",
    "                    if(user[tag] != \"\"):\n",
    "                        allProducts[product-1][tag-45] += 1\n",
    "                        \n",
    "    with open(\"ourData/allProductRatings.csv\", \"a\") as fp:   #write to new csv\n",
    "        wr = csv.writer(fp, dialect='excel')\n",
    "        for productRow in allProducts:\n",
    "            wr.writerow(productRow)"
   ]
  },
  {
   "cell_type": "markdown",
   "metadata": {},
   "source": [
    "### Reset Model"
   ]
  },
  {
   "cell_type": "code",
   "execution_count": 2,
   "metadata": {
    "collapsed": true
   },
   "outputs": [],
   "source": [
    "model = None\n"
   ]
  }
 ],
 "metadata": {
  "kernelspec": {
   "display_name": "Python 2",
   "language": "python",
   "name": "python2"
  },
  "language_info": {
   "codemirror_mode": {
    "name": "ipython",
    "version": 2
   },
   "file_extension": ".py",
   "mimetype": "text/x-python",
   "name": "python",
   "nbconvert_exporter": "python",
   "pygments_lexer": "ipython2",
   "version": "2.7.13"
  }
 },
 "nbformat": 4,
 "nbformat_minor": 2
}
